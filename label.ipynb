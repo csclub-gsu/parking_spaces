{
 "cells": [
  {
   "cell_type": "code",
   "execution_count": 14,
   "id": "4145dae0",
   "metadata": {},
   "outputs": [],
   "source": [
    "import os\n",
    "import numpy as np\n",
    "from PIL import Image\n",
    "import random\n",
    "import matplotlib as plt"
   ]
  },
  {
   "cell_type": "code",
   "execution_count": 15,
   "id": "0636d9b2",
   "metadata": {},
   "outputs": [],
   "source": [
    "\n",
    "raw_folder = \"raw_images/\"\n",
    "annotated_folder = \"annotated_images/\"\n",
    "\n",
    "occupied_dir = \"training_data/occupied/\"\n",
    "empty_dir = \"training_data/empty/\"\n",
    "\n",
    "if not os.path.exists(occupied_dir):\n",
    "    os.makedirs(occupied_dir)\n",
    "\n",
    "if not os.path.exists(empty_dir):\n",
    "    os.makedirs(empty_dir)"
   ]
  },
  {
   "cell_type": "code",
   "execution_count": 16,
   "id": "5690ca4e",
   "metadata": {},
   "outputs": [
    {
     "name": "stdout",
     "output_type": "stream",
     "text": [
      "Number of empty parking spaces detected: 0\n",
      "Number of occupied parking spaces detected: 0\n"
     ]
    }
   ],
   "source": [
    "empty_images = os.listdir(empty_dir)\n",
    "occupied_images = os.listdir(occupied_dir)\n",
    "\n",
    "print(f\"Number of empty parking spaces detected: {len(empty_images)}\")\n",
    "print(f\"Number of occupied parking spaces detected: {len(occupied_images)}\")\n"
   ]
  },
  {
   "cell_type": "code",
   "execution_count": 17,
   "id": "3ec8ece4",
   "metadata": {},
   "outputs": [],
   "source": [
    "import pandas as pd\n",
    "import os\n",
    "from PIL import Image, ImageDraw\n",
    "import numpy as np\n",
    "import ast\n",
    "\n",
    "# Directories\n",
    "raw_folder = \"raw_images/\"\n",
    "occupied_dir = \"training_data/occupied/\"\n",
    "empty_dir = \"training_data/empty/\"\n",
    "\n",
    "if not os.path.exists(occupied_dir):\n",
    "    os.makedirs(occupied_dir)\n",
    "\n",
    "if not os.path.exists(empty_dir):\n",
    "    os.makedirs(empty_dir)\n",
    "\n",
    "# Load CSV\n",
    "df = pd.read_csv(\"detection-dataset.csv\")\n",
    "\n",
    "def extract_parking_spot(image_path, polygons):\n",
    "    img = Image.open(image_path).convert(\"RGB\")\n",
    "    img_array = np.array(img)\n",
    "    \n",
    "    for polygon_info in polygons:\n",
    "        label = polygon_info['label']\n",
    "        points = polygon_info['points']\n",
    "        \n",
    "        # Draw the polygon to get a mask\n",
    "        mask_img = Image.new('L', img.size, 0)\n",
    "        ImageDraw.Draw(mask_img).polygon(points, outline=1, fill=1)\n",
    "        mask = np.array(mask_img).astype(bool)\n",
    "        \n",
    "        # Extract spot using the mask\n",
    "        spot_img_array = np.zeros_like(img_array)\n",
    "        spot_img_array[mask] = img_array[mask]\n",
    "        spot_img = Image.fromarray(spot_img_array)\n",
    "        \n",
    "        # Save to appropriate folder\n",
    "        if label == \"free_parking_space\":\n",
    "            save_path = os.path.join(empty_dir, f\"{os.path.basename(image_path)}_free_{points[0][0]}_{points[0][1]}.jpg\")\n",
    "        else:  # Assuming only two labels: free_parking_space and not_free_parking_space\n",
    "            save_path = os.path.join(occupied_dir, f\"{os.path.basename(image_path)}_occupied_{points[0][0]}_{points[0][1]}.jpg\")\n",
    "        \n",
    "        spot_img.save(save_path)\n",
    "\n",
    "# Process each image\n",
    "for _, row in df.iterrows():\n",
    "    image_path = os.path.join(raw_folder, row['image_name'])\n",
    "    annotations = ast.literal_eval(row['annotations'])\n",
    "    extract_parking_spot(image_path, annotations)\n"
   ]
  },
  {
   "cell_type": "code",
   "execution_count": 18,
   "id": "7b029cdd",
   "metadata": {},
   "outputs": [
    {
     "name": "stdout",
     "output_type": "stream",
     "text": [
      "Number of empty parking spaces detected: 273\n",
      "Number of occupied parking spaces detected: 630\n"
     ]
    }
   ],
   "source": [
    "empty_images = os.listdir(empty_dir)\n",
    "occupied_images = os.listdir(occupied_dir)\n",
    "\n",
    "print(f\"Number of empty parking spaces detected: {len(empty_images)}\")\n",
    "print(f\"Number of occupied parking spaces detected: {len(occupied_images)}\")\n"
   ]
  },
  {
   "cell_type": "code",
   "execution_count": null,
   "id": "87bae618",
   "metadata": {},
   "outputs": [],
   "source": []
  }
 ],
 "metadata": {
  "kernelspec": {
   "display_name": "Python 3 (ipykernel)",
   "language": "python",
   "name": "python3"
  },
  "language_info": {
   "codemirror_mode": {
    "name": "ipython",
    "version": 3
   },
   "file_extension": ".py",
   "mimetype": "text/x-python",
   "name": "python",
   "nbconvert_exporter": "python",
   "pygments_lexer": "ipython3",
   "version": "3.10.12"
  }
 },
 "nbformat": 4,
 "nbformat_minor": 5
}
